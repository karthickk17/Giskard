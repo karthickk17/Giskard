{
 "cells": [
  {
   "cell_type": "code",
   "execution_count": 25,
   "metadata": {},
   "outputs": [],
   "source": [
    "import wikipediaapi\n",
    "from langchain import PromptTemplate\n",
    "from langchain.text_splitter import RecursiveCharacterTextSplitter\n",
    "from langchain.embeddings import OllamaEmbeddings\n",
    "from langchain_community.vectorstores import Qdrant\n",
    "from langchain.llms import Ollama\n",
    "from langchain.chains import RetrievalQA"
   ]
  },
  {
   "cell_type": "code",
   "execution_count": 11,
   "metadata": {},
   "outputs": [],
   "source": [
    "wiki_wiki = wikipediaapi.Wikipedia(\n",
    "    user_agent='Giskard application',\n",
    "    language='en',\n",
    "    extract_format=wikipediaapi.ExtractFormat.WIKI\n",
    ")\n",
    "p_wiki = wiki_wiki.page('Virat_Kohli')\n",
    "data = p_wiki.text"
   ]
  },
  {
   "cell_type": "code",
   "execution_count": 12,
   "metadata": {},
   "outputs": [],
   "source": [
    "text_splitter = RecursiveCharacterTextSplitter(chunk_size=1000, chunk_overlap=100, add_start_index=True)"
   ]
  },
  {
   "cell_type": "code",
   "execution_count": 14,
   "metadata": {},
   "outputs": [],
   "source": [
    "docs = text_splitter.create_documents([data])"
   ]
  },
  {
   "cell_type": "code",
   "execution_count": 19,
   "metadata": {},
   "outputs": [],
   "source": [
    "embeddings = OllamaEmbeddings(\n",
    "    model='nomic-embed-text'\n",
    ")"
   ]
  },
  {
   "cell_type": "code",
   "execution_count": 23,
   "metadata": {},
   "outputs": [],
   "source": [
    "qdrant = Qdrant.from_documents(\n",
    "    docs,\n",
    "    embeddings,\n",
    "    location=\":memory:\",  # Local mode with in-memory storage only\n",
    "    collection_name=\"wiki_data\",\n",
    ")"
   ]
  },
  {
   "cell_type": "code",
   "execution_count": 24,
   "metadata": {},
   "outputs": [],
   "source": [
    "retriever = qdrant.as_retriever()"
   ]
  },
  {
   "cell_type": "code",
   "execution_count": 28,
   "metadata": {},
   "outputs": [
    {
     "data": {
      "text/plain": [
       "{'query': \"What is his wife's name?\",\n",
       " 'result': \"Virat Kohli's wife's name is Anushka Sharma. They got married on 11 December 2017 in Florence, Italy. Their daughter's name is Vamika and their son's name is Akaay.\"}"
      ]
     },
     "execution_count": 28,
     "metadata": {},
     "output_type": "execute_result"
    }
   ],
   "source": [
    "PROMPT_TEMPLATE = \"\"\"You are the Wikipedia Assitant.\n",
    "Your task is to answer common questions on Virat Kohli.\n",
    "You will be given a question and relevant excerpts from the wikipedia page.\n",
    "Please provide short and clear answers based on the provided context. Be polite and helpful.\n",
    "\n",
    "Context:\n",
    "{context}\n",
    "\n",
    "Question:\n",
    "{question}\n",
    "\n",
    "Your answer:\n",
    "\"\"\"\n",
    "\n",
    "llm = Ollama(model=\"phi3\", temperature=0)\n",
    "prompt = PromptTemplate(template=PROMPT_TEMPLATE, input_variables=[\"question\", \"context\"])\n",
    "qa_chain = RetrievalQA.from_llm(llm=llm, retriever=retriever, prompt=prompt)\n",
    "\n",
    "# Test that everything works\n",
    "qa_chain.invoke({\"query\": \"What is his wife's name?\"})"
   ]
  },
  {
   "cell_type": "code",
   "execution_count": 29,
   "metadata": {},
   "outputs": [
    {
     "name": "stdout",
     "output_type": "stream",
     "text": [
      "2024-05-28 22:31:44,112 pid:10604 MainThread giskard.models.automodel INFO     Your 'prediction_function' is successfully wrapped by Giskard's 'PredictionFunctionModel' wrapper class.\n"
     ]
    }
   ],
   "source": [
    "import giskard\n",
    "import pandas as pd\n",
    "\n",
    "\n",
    "def model_predict(df: pd.DataFrame):\n",
    "    \"\"\"Wraps the LLM call in a simple Python function.\n",
    "\n",
    "    The function takes a pandas.DataFrame containing the input variables needed\n",
    "    by your model, and must return a list of the outputs (one for each row).\n",
    "    \"\"\"\n",
    "    return [qa_chain.run({\"query\": question}) for question in df[\"question\"]]\n",
    "\n",
    "\n",
    "# Don’t forget to fill the `name` and `description`: they are used by Giskard\n",
    "# to generate domain-specific tests.\n",
    "giskard_model = giskard.Model(\n",
    "    model=model_predict,\n",
    "    model_type=\"text_generation\",\n",
    "    name=\"Wikipedia Question Answering\",\n",
    "    description=\"This model answers any question about a person's wikipedia page\",\n",
    "    feature_names=[\"question\"],\n",
    ")"
   ]
  },
  {
   "cell_type": "code",
   "execution_count": 30,
   "metadata": {},
   "outputs": [
    {
     "name": "stdout",
     "output_type": "stream",
     "text": [
      "2024-05-28 22:31:51,476 pid:10604 MainThread giskard.datasets.base INFO     Your 'pandas.DataFrame' is successfully wrapped by Giskard's 'Dataset' wrapper class.\n",
      "2024-05-28 22:31:51,493 pid:10604 MainThread giskard.datasets.base INFO     Casting dataframe columns from {'question': 'object'} to {'question': 'object'}\n",
      "2024-05-28 22:33:27,081 pid:10604 MainThread giskard.utils.logging_utils INFO     Predicted dataset with shape (2, 1) executed in 0:01:35.608124\n",
      "[\"Virat Kohli scored his first Test century on 23 November 2 Written by a language model AI. Please note that while I strive for accuracy, it's always good to verify important information from official sources.\\n\\nVirat Kohli hit his first Test century on 23rd November 2014 against the West Indies in Mumbai.\"\n",
      " 'In the 2016 Indian Premier League (IPL), Virat Kohli scored a total of 973 runs.']\n"
     ]
    }
   ],
   "source": [
    "# Optional: let’s test that the wrapped model works\n",
    "examples = [\n",
    "    \"When did he hit his first test century?\",\n",
    "    \"How much runs did he score in 2016 IPL?\",\n",
    "]\n",
    "giskard_dataset = giskard.Dataset(pd.DataFrame({\"question\": examples}), target=None)\n",
    "\n",
    "print(giskard_model.predict(giskard_dataset).prediction)"
   ]
  },
  {
   "cell_type": "code",
   "execution_count": 31,
   "metadata": {},
   "outputs": [
    {
     "name": "stdout",
     "output_type": "stream",
     "text": [
      "🔎 Running scan…\n",
      "Estimated calls to your model: ~30\n",
      "Estimated LLM calls for evaluation: 22\n",
      "\n",
      "2024-05-28 22:34:02,411 pid:10604 MainThread giskard.scanner.logger INFO     Running detectors: ['LLMImplausibleOutputDetector', 'LLMBasicSycophancyDetector']\n",
      "Running detector LLMImplausibleOutputDetector…\n",
      "2024-05-28 22:34:18,622 pid:10604 MainThread httpx        INFO     HTTP Request: POST https://api.openai.com/v1/chat/completions \"HTTP/1.1 200 OK\"\n",
      "2024-05-28 22:34:18,631 pid:10604 MainThread giskard.datasets.base INFO     Casting dataframe columns from {'question': 'object'} to {'question': 'object'}\n",
      "2024-05-28 22:42:59,175 pid:10604 MainThread giskard.utils.logging_utils INFO     Predicted dataset with shape (10, 1) executed in 0:08:40.548535\n",
      "2024-05-28 22:43:02,469 pid:10604 MainThread httpx        INFO     HTTP Request: POST https://api.openai.com/v1/chat/completions \"HTTP/1.1 200 OK\"\n",
      "2024-05-28 22:43:04,819 pid:10604 MainThread httpx        INFO     HTTP Request: POST https://api.openai.com/v1/chat/completions \"HTTP/1.1 200 OK\"\n",
      "2024-05-28 22:43:07,455 pid:10604 MainThread httpx        INFO     HTTP Request: POST https://api.openai.com/v1/chat/completions \"HTTP/1.1 200 OK\"\n",
      "2024-05-28 22:43:12,390 pid:10604 MainThread httpx        INFO     HTTP Request: POST https://api.openai.com/v1/chat/completions \"HTTP/1.1 200 OK\"\n",
      "2024-05-28 22:43:15,099 pid:10604 MainThread httpx        INFO     HTTP Request: POST https://api.openai.com/v1/chat/completions \"HTTP/1.1 200 OK\"\n",
      "2024-05-28 22:43:18,065 pid:10604 MainThread httpx        INFO     HTTP Request: POST https://api.openai.com/v1/chat/completions \"HTTP/1.1 200 OK\"\n",
      "2024-05-28 22:43:21,085 pid:10604 MainThread httpx        INFO     HTTP Request: POST https://api.openai.com/v1/chat/completions \"HTTP/1.1 200 OK\"\n",
      "2024-05-28 22:43:23,785 pid:10604 MainThread httpx        INFO     HTTP Request: POST https://api.openai.com/v1/chat/completions \"HTTP/1.1 200 OK\"\n",
      "2024-05-28 22:43:26,495 pid:10604 MainThread httpx        INFO     HTTP Request: POST https://api.openai.com/v1/chat/completions \"HTTP/1.1 200 OK\"\n",
      "2024-05-28 22:43:29,222 pid:10604 MainThread httpx        INFO     HTTP Request: POST https://api.openai.com/v1/chat/completions \"HTTP/1.1 200 OK\"\n",
      "LLMImplausibleOutputDetector: 1 issue detected. (Took 0:09:26.811961)\n",
      "Running detector LLMBasicSycophancyDetector…\n",
      "2024-05-28 22:44:00,489 pid:10604 MainThread httpx        INFO     HTTP Request: POST https://api.openai.com/v1/chat/completions \"HTTP/1.1 200 OK\"\n",
      "2024-05-28 22:44:00,499 pid:10604 MainThread giskard.datasets.base INFO     Casting dataframe columns from {'question': 'object'} to {'question': 'object'}\n"
     ]
    }
   ],
   "source": [
    "report = giskard.scan(giskard_model, giskard_dataset, only=\"hallucination\")"
   ]
  },
  {
   "cell_type": "code",
   "execution_count": null,
   "metadata": {},
   "outputs": [],
   "source": [
    "display(report)"
   ]
  },
  {
   "cell_type": "code",
   "execution_count": null,
   "metadata": {},
   "outputs": [],
   "source": [
    "full_report = giskard.scan(giskard_model, giskard_dataset)"
   ]
  },
  {
   "cell_type": "code",
   "execution_count": null,
   "metadata": {},
   "outputs": [],
   "source": [
    "display(full_report)\n",
    "\n",
    "# Save it to a file\n",
    "full_report.to_html(\"scan_report.html\")"
   ]
  }
 ],
 "metadata": {
  "kernelspec": {
   "display_name": "Giskard",
   "language": "python",
   "name": "python3"
  },
  "language_info": {
   "codemirror_mode": {
    "name": "ipython",
    "version": 3
   },
   "file_extension": ".py",
   "mimetype": "text/x-python",
   "name": "python",
   "nbconvert_exporter": "python",
   "pygments_lexer": "ipython3",
   "version": "3.11.0"
  }
 },
 "nbformat": 4,
 "nbformat_minor": 2
}
